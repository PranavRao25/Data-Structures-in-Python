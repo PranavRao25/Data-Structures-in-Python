{
 "cells": [
  {
   "cell_type": "code",
   "execution_count": 1,
   "id": "a34fa196",
   "metadata": {},
   "outputs": [],
   "source": [
    "from collections import deque\n",
    "import math\n",
    "import random"
   ]
  },
  {
   "cell_type": "code",
   "execution_count": 69,
   "id": "72d01891",
   "metadata": {},
   "outputs": [],
   "source": [
    "class DoubleLinkedList:\n",
    "    class _Node:\n",
    "        __slots__ = ['element', 'index', 'next', 'previous']\n",
    "\n",
    "        def __init__(self, element, index, next=None, previous=None):\n",
    "            self.element = element\n",
    "            self.index = index\n",
    "            self.next = next\n",
    "            self.previous = previous\n",
    "    \n",
    "    def __init__(self, val, index=0):\n",
    "        self.__head = self._Node(element=val, index=index)\n",
    "        self.__head.previous = self.__head\n",
    "        self.__head.next = self.__head\n",
    "        self.__tail = self.__head\n",
    "\n",
    "        self.length = 1\n",
    "    \n",
    "    def insert_node(self, val, parent_index):\n",
    "        if parent_index > self.length // 2:\n",
    "            temp = self.__tail\n",
    "            \n",
    "            while temp.previous != self.__tail:\n",
    "                if temp.index == parent_index:\n",
    "                    break\n",
    "                temp = temp.previous\n",
    "            node = self._Node(\n",
    "                element=val, index=parent_index+1,\n",
    "                next=temp.next, previous=temp\n",
    "                )\n",
    "            temp.next.previous = node\n",
    "            temp.next = node\n",
    "            if temp == self.__tail:\n",
    "                self.__tail, self.__head = node, node.next\n",
    "        else:\n",
    "            temp = self.__head\n",
    "            while temp.next != self.__head:\n",
    "                if temp.index == parent_index:\n",
    "                    break\n",
    "                temp = temp.next\n",
    "            node = self._Node(\n",
    "                element=val, index=parent_index+1,\n",
    "                next=temp.next, previous=temp\n",
    "                )\n",
    "            temp.next.previous = node\n",
    "            temp.next = node\n",
    "            if temp == self.__head:\n",
    "                self.__head, self.__tail = node, node.previous\n",
    "\n",
    "        self.length += 1\n",
    "        return node.index\n",
    "    \n",
    "    def head(self):\n",
    "        return self.__head\n",
    "    \n",
    "    def tail(self):\n",
    "        return self.__tail\n",
    "\n",
    "    def print(self):\n",
    "        temp = self.__head\n",
    "\n",
    "        print(f\"head, {self.head().element}\")\n",
    "        while True:\n",
    "            print(temp.index, temp.element)\n",
    "            temp = temp.next\n",
    "\n",
    "            if temp == self.__head:\n",
    "                break\n",
    "        print(f\"tail, {self.tail().element}\")\n",
    "\n",
    "    def remove_node(self, index):\n",
    "        if index > self.length // 2:\n",
    "            temp = self.__tail\n",
    "\n",
    "            while True:\n",
    "                if temp.index == index or temp == self.__head:\n",
    "                    break\n",
    "                temp = temp.previous\n",
    "            (temp.parent).next, (temp.next).parent = temp.next, temp.parent\n",
    "            temp.next, temp.parent = temp, temp\n",
    "        else:\n",
    "            temp = self.__head\n",
    "\n",
    "            while True:\n",
    "                if temp.index == index or temp == self.__tail:\n",
    "                    break\n",
    "                temp = temp.next\n",
    "            (temp.parent).next, (temp.next).parent = temp.next, temp.parent\n",
    "            temp.next, temp.parent = temp, temp"
   ]
  },
  {
   "cell_type": "code",
   "execution_count": 66,
   "id": "c138b8f4",
   "metadata": {},
   "outputs": [],
   "source": [
    "dll = DoubleLinkedList(1, 0)"
   ]
  },
  {
   "cell_type": "code",
   "execution_count": 67,
   "id": "5709c178",
   "metadata": {},
   "outputs": [],
   "source": [
    "j = 0\n",
    "for i in range(10):\n",
    "    dll.insert_node(i, j)\n",
    "    j += 1"
   ]
  },
  {
   "cell_type": "code",
   "execution_count": null,
   "id": "1eaa929d",
   "metadata": {},
   "outputs": [],
   "source": [
    "dll.print()"
   ]
  },
  {
   "cell_type": "code",
   "execution_count": null,
   "id": "22cbb6a8",
   "metadata": {},
   "outputs": [],
   "source": []
  }
 ],
 "metadata": {
  "kernelspec": {
   "display_name": "base",
   "language": "python",
   "name": "python3"
  },
  "language_info": {
   "codemirror_mode": {
    "name": "ipython",
    "version": 3
   },
   "file_extension": ".py",
   "mimetype": "text/x-python",
   "name": "python",
   "nbconvert_exporter": "python",
   "pygments_lexer": "ipython3",
   "version": "3.13.5"
  }
 },
 "nbformat": 4,
 "nbformat_minor": 5
}
